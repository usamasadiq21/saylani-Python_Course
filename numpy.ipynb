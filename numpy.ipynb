{
 "cells": [
  {
   "cell_type": "markdown",
   "id": "50030e13-eada-4f82-8c34-8ff721a07ca6",
   "metadata": {},
   "source": [
    "## Numerical Python"
   ]
  },
  {
   "cell_type": "markdown",
   "id": "58192168-849d-4ce7-b34f-6b45458b2d5f",
   "metadata": {
    "jp-MarkdownHeadingCollapsed": true
   },
   "source": [
    "#### VECTOR\n",
    "- A vector is an array with a single dimension (there is no difference b/w row and column vector.\n",
    "#### MATRIX\n",
    "- A matrix refer to an array wtih two dimensions."
   ]
  },
  {
   "cell_type": "markdown",
   "id": "4c5a63af-9ad9-4b8a-b27f-10b55029acc9",
   "metadata": {},
   "source": [
    "#### 1-D Array"
   ]
  },
  {
   "cell_type": "code",
   "execution_count": 4,
   "id": "01973a76-5cee-40a3-975e-22a2f04ab5dc",
   "metadata": {},
   "outputs": [
    {
     "data": {
      "text/plain": [
       "array([ 3,  7, 10])"
      ]
     },
     "execution_count": 4,
     "metadata": {},
     "output_type": "execute_result"
    }
   ],
   "source": [
    "import numpy as np\n",
    "arr = np.array([3,7,10])\n",
    "arr"
   ]
  },
  {
   "cell_type": "markdown",
   "id": "531ee3a9-8166-4a1a-9956-cf7856bffc32",
   "metadata": {},
   "source": [
    "---"
   ]
  },
  {
   "cell_type": "code",
   "execution_count": 9,
   "id": "2cba0a39-9dd6-4af9-92bc-198b8ff51a16",
   "metadata": {},
   "outputs": [
    {
     "data": {
      "text/plain": [
       "numpy.ndarray"
      ]
     },
     "execution_count": 9,
     "metadata": {},
     "output_type": "execute_result"
    }
   ],
   "source": [
    "# Type of Array\n",
    "type(arr)"
   ]
  },
  {
   "cell_type": "markdown",
   "id": "107ceeab-2d07-421a-ab4a-34a5b775c6ea",
   "metadata": {},
   "source": [
    "---"
   ]
  },
  {
   "cell_type": "code",
   "execution_count": 6,
   "id": "795e6a56-0224-482b-a1a3-378e71d80c4c",
   "metadata": {},
   "outputs": [
    {
     "data": {
      "text/plain": [
       "3"
      ]
     },
     "execution_count": 6,
     "metadata": {},
     "output_type": "execute_result"
    }
   ],
   "source": [
    "# Length of array\n",
    "len(arr)"
   ]
  },
  {
   "cell_type": "markdown",
   "id": "162c296e-1e03-452e-a40c-cf19d93d0c1f",
   "metadata": {},
   "source": [
    "---"
   ]
  },
  {
   "cell_type": "code",
   "execution_count": 16,
   "id": "0dd60ada-850d-4d63-bb6a-c80c0c549e62",
   "metadata": {},
   "outputs": [
    {
     "data": {
      "text/plain": [
       "3"
      ]
     },
     "execution_count": 16,
     "metadata": {},
     "output_type": "execute_result"
    }
   ],
   "source": [
    "# Element from 0th index\n",
    "arr[0]"
   ]
  },
  {
   "cell_type": "markdown",
   "id": "045c8378-e40e-4cef-b1b1-31ee80c067ce",
   "metadata": {},
   "source": [
    "---"
   ]
  },
  {
   "cell_type": "code",
   "execution_count": 17,
   "id": "6d406d14-595e-4bc4-b7bb-9642de19b376",
   "metadata": {},
   "outputs": [
    {
     "data": {
      "text/plain": [
       "array([ 3,  7, 10])"
      ]
     },
     "execution_count": 17,
     "metadata": {},
     "output_type": "execute_result"
    }
   ],
   "source": [
    "# All Elements from start to end using indexing\n",
    "arr[0:]"
   ]
  },
  {
   "cell_type": "markdown",
   "id": "c8a0cc4a-3a8c-462a-a933-f4dad94039ee",
   "metadata": {},
   "source": [
    "---"
   ]
  },
  {
   "cell_type": "markdown",
   "id": "9eb3641c-2f18-4d22-817b-13007da099a4",
   "metadata": {},
   "source": [
    "1). Array with all elements are zeroes."
   ]
  },
  {
   "cell_type": "code",
   "execution_count": 18,
   "id": "bbedfaa9-a7c5-4ea7-9374-b4542cb1e67b",
   "metadata": {},
   "outputs": [
    {
     "data": {
      "text/plain": [
       "array([0., 0., 0.])"
      ]
     },
     "execution_count": 18,
     "metadata": {},
     "output_type": "execute_result"
    }
   ],
   "source": [
    "zero_arr = np.zeros(3)\n",
    "zero_arr"
   ]
  },
  {
   "cell_type": "markdown",
   "id": "e0e51a81-c5b3-4d8c-8dee-6202b7fb138e",
   "metadata": {},
   "source": [
    "---"
   ]
  },
  {
   "cell_type": "markdown",
   "id": "736c6a12-3416-4452-9b22-2dd29ab83fb5",
   "metadata": {},
   "source": [
    "2). Array with all elements are One."
   ]
  },
  {
   "cell_type": "code",
   "execution_count": 19,
   "id": "178c710c-4c99-4fbb-a4fb-db63a5621ea7",
   "metadata": {},
   "outputs": [
    {
     "data": {
      "text/plain": [
       "array([1., 1., 1., 1.])"
      ]
     },
     "execution_count": 19,
     "metadata": {},
     "output_type": "execute_result"
    }
   ],
   "source": [
    "one_arr = np.ones(4)\n",
    "one_arr"
   ]
  },
  {
   "cell_type": "markdown",
   "id": "b3ab2c8b-2f5b-41bb-8ecc-7f3a302eff94",
   "metadata": {},
   "source": [
    "---"
   ]
  },
  {
   "cell_type": "markdown",
   "id": "6dee2465-551f-4fe6-a675-9ceee396bdf8",
   "metadata": {},
   "source": [
    "3). With Range of elements "
   ]
  },
  {
   "cell_type": "code",
   "execution_count": 20,
   "id": "94cfc9b1-f2a6-4569-a680-3d7a79022a1d",
   "metadata": {},
   "outputs": [
    {
     "data": {
      "text/plain": [
       "array([0, 1, 2, 3, 4])"
      ]
     },
     "execution_count": 20,
     "metadata": {},
     "output_type": "execute_result"
    }
   ],
   "source": [
    "range_arr = np.arange(5)\n",
    "range_arr"
   ]
  },
  {
   "cell_type": "markdown",
   "id": "6edb9f91-ee24-4f90-995c-bf3b277ac700",
   "metadata": {},
   "source": [
    "---"
   ]
  },
  {
   "cell_type": "markdown",
   "id": "2f91dcf3-1e0b-4c91-804d-d628f64eeb16",
   "metadata": {},
   "source": [
    "4). With specific Range of Elements"
   ]
  },
  {
   "cell_type": "code",
   "execution_count": 22,
   "id": "adabf66b-a10a-4f64-bf12-2a0e4d275528",
   "metadata": {},
   "outputs": [
    {
     "data": {
      "text/plain": [
       "array([ 3,  4,  5,  6,  7,  8,  9, 10, 11, 12, 13, 14, 15, 16, 17, 18, 19])"
      ]
     },
     "execution_count": 22,
     "metadata": {},
     "output_type": "execute_result"
    }
   ],
   "source": [
    "specific_range_elem = np.arange(3,20)\n",
    "specific_range_elem"
   ]
  },
  {
   "cell_type": "markdown",
   "id": "91b87dc7-cb1d-4920-a462-2beffc01ce50",
   "metadata": {},
   "source": [
    "---"
   ]
  },
  {
   "cell_type": "markdown",
   "id": "0ad5a80e-140f-441c-a8fb-648b7d9ddd3a",
   "metadata": {},
   "source": [
    "5). Array with skipping numbers in the range."
   ]
  },
  {
   "cell_type": "code",
   "execution_count": 23,
   "id": "3494a928-06a0-4343-9d18-43bd5bf98f1b",
   "metadata": {},
   "outputs": [
    {
     "data": {
      "text/plain": [
       "array([ 4,  7, 10, 13, 16, 19, 22])"
      ]
     },
     "execution_count": 23,
     "metadata": {},
     "output_type": "execute_result"
    }
   ],
   "source": [
    "skipping_steps_elem = np.arange(4,25,3)\n",
    "skipping_steps_elem"
   ]
  },
  {
   "cell_type": "markdown",
   "id": "b1ccded5-b55e-4224-a097-81008c710dc8",
   "metadata": {},
   "source": [
    "---"
   ]
  },
  {
   "cell_type": "markdown",
   "id": "34c70c2a-b9a5-4ba5-a381-b3eeb86652dc",
   "metadata": {},
   "source": [
    "6). Specfic Data types in array"
   ]
  },
  {
   "cell_type": "code",
   "execution_count": 24,
   "id": "dd877dcc-d45d-43bf-9402-0d7f95582ca9",
   "metadata": {},
   "outputs": [
    {
     "data": {
      "text/plain": [
       "array([1, 1, 1, 1, 1], dtype=int8)"
      ]
     },
     "execution_count": 24,
     "metadata": {},
     "output_type": "execute_result"
    }
   ],
   "source": [
    "# With All elements are 1s, same could be created with all elements are zeroes.\n",
    "specific_DataType_arr1 = np.ones(5, dtype=np.int8)\n",
    "specific_DataType_arr1"
   ]
  },
  {
   "cell_type": "code",
   "execution_count": 26,
   "id": "320157d0-8d74-4fc1-9536-a68330d52367",
   "metadata": {},
   "outputs": [
    {
     "data": {
      "text/plain": [
       "array([0., 1., 2., 3., 4., 5., 6., 7., 8., 9.])"
      ]
     },
     "execution_count": 26,
     "metadata": {},
     "output_type": "execute_result"
    }
   ],
   "source": [
    "# With range of elements.\n",
    "specific_DataType_arr2 = np.arange(10, dtype=np.float64)\n",
    "specific_DataType_arr2"
   ]
  },
  {
   "cell_type": "markdown",
   "id": "b29c79d2-229b-4c72-90bd-b88a260f89de",
   "metadata": {},
   "source": [
    "---"
   ]
  },
  {
   "cell_type": "code",
   "execution_count": null,
   "id": "10ced430-e419-46ba-98ba-1d8baeb5678a",
   "metadata": {},
   "outputs": [],
   "source": []
  },
  {
   "cell_type": "code",
   "execution_count": null,
   "id": "db889400-dec9-4b46-a454-be53dfc0d23a",
   "metadata": {},
   "outputs": [],
   "source": []
  },
  {
   "cell_type": "code",
   "execution_count": null,
   "id": "c4bac18e-2d43-43fa-8c7d-2d5fedaa84ef",
   "metadata": {},
   "outputs": [],
   "source": []
  },
  {
   "cell_type": "code",
   "execution_count": null,
   "id": "e112310a-5486-4832-a087-ae1e24043be8",
   "metadata": {},
   "outputs": [],
   "source": []
  },
  {
   "cell_type": "code",
   "execution_count": null,
   "id": "6762b293-7d08-4153-907f-3b693623d902",
   "metadata": {},
   "outputs": [],
   "source": []
  },
  {
   "cell_type": "code",
   "execution_count": null,
   "id": "8d19b96e-b2e3-4d74-af83-a440117518fe",
   "metadata": {},
   "outputs": [],
   "source": []
  },
  {
   "cell_type": "code",
   "execution_count": null,
   "id": "6a5ad738-e901-452c-97d4-3382a6853249",
   "metadata": {},
   "outputs": [],
   "source": []
  },
  {
   "cell_type": "code",
   "execution_count": null,
   "id": "39c0fb28-27de-4978-924e-0518fee24dee",
   "metadata": {},
   "outputs": [],
   "source": []
  },
  {
   "cell_type": "code",
   "execution_count": null,
   "id": "597de420-8924-4bf6-9573-4323ee90bc27",
   "metadata": {},
   "outputs": [],
   "source": []
  },
  {
   "cell_type": "code",
   "execution_count": null,
   "id": "db5229b1-bd4b-446d-9271-1919d2e8219a",
   "metadata": {},
   "outputs": [],
   "source": []
  },
  {
   "cell_type": "code",
   "execution_count": null,
   "id": "fcab34f1-9bf1-4ad5-8b93-c61249cc06a4",
   "metadata": {},
   "outputs": [],
   "source": []
  },
  {
   "cell_type": "code",
   "execution_count": null,
   "id": "c8a306dd-8927-4cf9-995a-5a3aa686d196",
   "metadata": {},
   "outputs": [],
   "source": []
  },
  {
   "cell_type": "code",
   "execution_count": null,
   "id": "b73998ed-0542-4437-a136-5ae4fd3be072",
   "metadata": {},
   "outputs": [],
   "source": []
  },
  {
   "cell_type": "code",
   "execution_count": null,
   "id": "bff0e290-307d-4ca5-8c33-971c362c5bb3",
   "metadata": {},
   "outputs": [],
   "source": []
  },
  {
   "cell_type": "code",
   "execution_count": null,
   "id": "e5d10898-8dc5-4584-a94c-3c73402448c9",
   "metadata": {},
   "outputs": [],
   "source": []
  },
  {
   "cell_type": "code",
   "execution_count": null,
   "id": "4f8d9bf0-e049-4745-b122-bce101714835",
   "metadata": {},
   "outputs": [],
   "source": []
  },
  {
   "cell_type": "code",
   "execution_count": null,
   "id": "c3f6ac2f-bcbe-4d30-80ff-54f24c3bccb4",
   "metadata": {},
   "outputs": [],
   "source": []
  },
  {
   "cell_type": "code",
   "execution_count": null,
   "id": "fb76555d-9cb6-4b2a-9476-28d517b1b6ec",
   "metadata": {},
   "outputs": [],
   "source": []
  },
  {
   "cell_type": "code",
   "execution_count": null,
   "id": "5efdcd22-44a8-4d6a-990f-2ca1702fb2a1",
   "metadata": {},
   "outputs": [],
   "source": []
  },
  {
   "cell_type": "code",
   "execution_count": null,
   "id": "8998c165-e064-4c78-a110-d7640e7b4e6d",
   "metadata": {},
   "outputs": [],
   "source": []
  },
  {
   "cell_type": "markdown",
   "id": "04080c71-2f73-44c7-8799-f5b7bf196b4c",
   "metadata": {},
   "source": [
    "#### 2D Array"
   ]
  },
  {
   "cell_type": "code",
   "execution_count": 11,
   "id": "b92d2a5b-7b96-4eb1-b8cf-5ddcffe20455",
   "metadata": {},
   "outputs": [
    {
     "data": {
      "text/plain": [
       "array([[ 3,  1,  9],\n",
       "       [ 5,  8, 65],\n",
       "       [11,  9, 33]])"
      ]
     },
     "execution_count": 11,
     "metadata": {},
     "output_type": "execute_result"
    }
   ],
   "source": [
    "arr_2d = np.array([[3,1,9], [5,8,65], [11,9,33]])\n",
    "arr_2d"
   ]
  },
  {
   "cell_type": "code",
   "execution_count": 12,
   "id": "f1a5a493-7844-4036-b8d2-45c397f5fc67",
   "metadata": {},
   "outputs": [
    {
     "data": {
      "text/plain": [
       "numpy.ndarray"
      ]
     },
     "execution_count": 12,
     "metadata": {},
     "output_type": "execute_result"
    }
   ],
   "source": [
    "# Type of Array\n",
    "type(arr_2d)"
   ]
  },
  {
   "cell_type": "code",
   "execution_count": 13,
   "id": "708de4b1-a203-4239-b939-c1e66c6bbc0d",
   "metadata": {},
   "outputs": [
    {
     "data": {
      "text/plain": [
       "3"
      ]
     },
     "execution_count": 13,
     "metadata": {},
     "output_type": "execute_result"
    }
   ],
   "source": [
    "# Length of array\n",
    "len(arr_2d)"
   ]
  },
  {
   "cell_type": "code",
   "execution_count": 14,
   "id": "22ade04f-6d39-47f5-9639-9d74e38912b6",
   "metadata": {},
   "outputs": [
    {
     "data": {
      "text/plain": [
       "array([3, 1, 9])"
      ]
     },
     "execution_count": 14,
     "metadata": {},
     "output_type": "execute_result"
    }
   ],
   "source": [
    "# Element from 0th index\n",
    "arr_2d[0]"
   ]
  },
  {
   "cell_type": "code",
   "execution_count": 15,
   "id": "304f3326-433d-46a7-b0dc-c2f8b5b847d3",
   "metadata": {},
   "outputs": [
    {
     "data": {
      "text/plain": [
       "array([[ 3,  1,  9],\n",
       "       [ 5,  8, 65],\n",
       "       [11,  9, 33]])"
      ]
     },
     "execution_count": 15,
     "metadata": {},
     "output_type": "execute_result"
    }
   ],
   "source": [
    "# All Elements from start to end using indexing\n",
    "arr_2d[0:]"
   ]
  },
  {
   "cell_type": "code",
   "execution_count": null,
   "id": "31bea975-dd5f-411a-82dc-3ba42b597875",
   "metadata": {},
   "outputs": [],
   "source": []
  },
  {
   "cell_type": "code",
   "execution_count": null,
   "id": "d6564be2-63ed-483a-8deb-3fb139a200e5",
   "metadata": {},
   "outputs": [],
   "source": []
  },
  {
   "cell_type": "code",
   "execution_count": null,
   "id": "61bb7cf9-6f10-47ea-b7fa-ea08b1478bf8",
   "metadata": {},
   "outputs": [],
   "source": []
  },
  {
   "cell_type": "code",
   "execution_count": null,
   "id": "7e8fcfaa-1827-4309-917b-ff52950033f4",
   "metadata": {},
   "outputs": [],
   "source": []
  },
  {
   "cell_type": "code",
   "execution_count": null,
   "id": "a6f99d12-fc1e-4119-88ef-cfe8cb055366",
   "metadata": {},
   "outputs": [],
   "source": []
  },
  {
   "cell_type": "code",
   "execution_count": null,
   "id": "1b1a5893-d096-428f-9e7c-ecca5e9e9424",
   "metadata": {},
   "outputs": [],
   "source": []
  },
  {
   "cell_type": "code",
   "execution_count": null,
   "id": "5b3fd121-f3e5-4ad5-8fde-db96f7d88c7b",
   "metadata": {},
   "outputs": [],
   "source": []
  },
  {
   "cell_type": "code",
   "execution_count": null,
   "id": "da65f849-199a-4c57-8bba-b1aa368cf8b7",
   "metadata": {},
   "outputs": [],
   "source": []
  },
  {
   "cell_type": "code",
   "execution_count": null,
   "id": "04ce6621-7aae-4485-9aed-f6d6c13757e9",
   "metadata": {},
   "outputs": [],
   "source": []
  }
 ],
 "metadata": {
  "kernelspec": {
   "display_name": "Python 3 (ipykernel)",
   "language": "python",
   "name": "python3"
  },
  "language_info": {
   "codemirror_mode": {
    "name": "ipython",
    "version": 3
   },
   "file_extension": ".py",
   "mimetype": "text/x-python",
   "name": "python",
   "nbconvert_exporter": "python",
   "pygments_lexer": "ipython3",
   "version": "3.11.7"
  }
 },
 "nbformat": 4,
 "nbformat_minor": 5
}
