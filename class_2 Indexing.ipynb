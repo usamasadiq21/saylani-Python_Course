{
 "cells": [
  {
   "cell_type": "markdown",
   "id": "bfbde0bd-404f-41d5-92b2-8cc56f14f180",
   "metadata": {},
   "source": [
    "## Indexing"
   ]
  },
  {
   "cell_type": "code",
   "execution_count": 2,
   "id": "3de95912-dc8d-42ad-acc0-117d9093a9fe",
   "metadata": {},
   "outputs": [],
   "source": [
    "var = \"Usama Sadiq\""
   ]
  },
  {
   "cell_type": "code",
   "execution_count": 3,
   "id": "38bc1e56-cba7-4c6c-a49b-86b098414dbf",
   "metadata": {},
   "outputs": [
    {
     "data": {
      "text/plain": [
       "11"
      ]
     },
     "execution_count": 3,
     "metadata": {},
     "output_type": "execute_result"
    }
   ],
   "source": [
    "len(var)"
   ]
  },
  {
   "cell_type": "markdown",
   "id": "a0a63e46-25a5-4665-bd12-580bc93c0bd1",
   "metadata": {},
   "source": [
    "## Index Syntax"
   ]
  },
  {
   "cell_type": "markdown",
   "id": "313b1415-766f-4cfa-98de-9ec48da1c8f3",
   "metadata": {},
   "source": [
    "### variable_name[StartingIndex: EndingIndex : no. of steps to jump]"
   ]
  },
  {
   "cell_type": "code",
   "execution_count": 5,
   "id": "88298b27-2808-4c89-aca1-46109a7ba289",
   "metadata": {},
   "outputs": [
    {
     "data": {
      "text/plain": [
       "'q'"
      ]
     },
     "execution_count": 5,
     "metadata": {},
     "output_type": "execute_result"
    }
   ],
   "source": [
    "var[10] # Give the value place against 10 index."
   ]
  },
  {
   "cell_type": "code",
   "execution_count": 15,
   "id": "ebdb271a-846f-4c51-9142-0c51a30d88a4",
   "metadata": {},
   "outputs": [
    {
     "data": {
      "text/plain": [
       "'ma Sadiq'"
      ]
     },
     "execution_count": 15,
     "metadata": {},
     "output_type": "execute_result"
    }
   ],
   "source": [
    "var[3:] # from index 2 it will run to the end.`"
   ]
  },
  {
   "cell_type": "code",
   "execution_count": 24,
   "id": "82c6fd91-ac6e-438f-90cf-e3bf4bdbe118",
   "metadata": {},
   "outputs": [
    {
     "data": {
      "text/plain": [
       "'ma Sadi'"
      ]
     },
     "execution_count": 24,
     "metadata": {},
     "output_type": "execute_result"
    }
   ],
   "source": [
    "var[3:10]  # Ending index value is exclusive."
   ]
  },
  {
   "cell_type": "code",
   "execution_count": 19,
   "id": "5575974b-652f-4c3b-9ae2-ae9e141b6f26",
   "metadata": {},
   "outputs": [
    {
     "data": {
      "text/plain": [
       "'ama Sad'"
      ]
     },
     "execution_count": 19,
     "metadata": {},
     "output_type": "execute_result"
    }
   ],
   "source": [
    "var[2: len(var)-2]"
   ]
  },
  {
   "cell_type": "code",
   "execution_count": 16,
   "id": "a678846f-c4d2-4951-b774-7567715c5af6",
   "metadata": {},
   "outputs": [
    {
     "data": {
      "text/plain": [
       "'a'"
      ]
     },
     "execution_count": 16,
     "metadata": {},
     "output_type": "execute_result"
    }
   ],
   "source": [
    "var[-4] # index value with minus(-) sign starts from end of the string or any other data-type."
   ]
  },
  {
   "cell_type": "code",
   "execution_count": null,
   "id": "973c6592-a6ff-4be7-bb93-1d9f394af453",
   "metadata": {},
   "outputs": [],
   "source": []
  }
 ],
 "metadata": {
  "kernelspec": {
   "display_name": "Python 3 (ipykernel)",
   "language": "python",
   "name": "python3"
  },
  "language_info": {
   "codemirror_mode": {
    "name": "ipython",
    "version": 3
   },
   "file_extension": ".py",
   "mimetype": "text/x-python",
   "name": "python",
   "nbconvert_exporter": "python",
   "pygments_lexer": "ipython3",
   "version": "3.11.7"
  }
 },
 "nbformat": 4,
 "nbformat_minor": 5
}
