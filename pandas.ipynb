{
 "cells": [
  {
   "cell_type": "markdown",
   "metadata": {},
   "source": [
    "### Learning Pandas (Pannel Data Analysis)"
   ]
  },
  {
   "cell_type": "markdown",
   "metadata": {},
   "source": [
    "+ Importing libraries"
   ]
  },
  {
   "cell_type": "code",
   "execution_count": 1,
   "metadata": {},
   "outputs": [],
   "source": [
    "import pandas as pd\n",
    "import numpy as np"
   ]
  },
  {
   "cell_type": "markdown",
   "metadata": {},
   "source": [
    "#### Creating Series(column)"
   ]
  },
  {
   "cell_type": "code",
   "execution_count": 8,
   "metadata": {},
   "outputs": [
    {
     "name": "stdout",
     "output_type": "stream",
     "text": [
      "0    1\n",
      "1    2\n",
      "2    3\n",
      "3    4\n",
      "4    5\n",
      "5    6\n",
      "6    7\n",
      "dtype: int64 0    22.0\n",
      "1    46.0\n",
      "2     6.0\n",
      "3    98.0\n",
      "4    11.0\n",
      "5     NaN\n",
      "6    33.0\n",
      "7    12.0\n",
      "dtype: float64\n"
     ]
    }
   ],
   "source": [
    "s1 = pd.Series([1,2,3,4,5,6,7])\n",
    "s2 = pd.Series([22,46,6,98,11, np.nan, 33,12]) # \"np.nan\" creates empty cells..\n",
    "print(s1, s2)"
   ]
  },
  {
   "cell_type": "markdown",
   "metadata": {},
   "source": [
    "#### Series from Date Range"
   ]
  },
  {
   "cell_type": "code",
   "execution_count": 10,
   "metadata": {},
   "outputs": [
    {
     "data": {
      "text/plain": [
       "DatetimeIndex(['2024-01-13', '2024-01-14', '2024-01-15', '2024-01-16',\n",
       "               '2024-01-17', '2024-01-18', '2024-01-19', '2024-01-20',\n",
       "               '2024-01-21', '2024-01-22'],\n",
       "              dtype='datetime64[ns]', freq='D')"
      ]
     },
     "execution_count": 10,
     "metadata": {},
     "output_type": "execute_result"
    }
   ],
   "source": [
    "# Date Starts from 2024/01/13\n",
    "dateSeries = pd.date_range('20240113', periods=10) # period = 10, gives date of 10 days\n",
    "dateSeries"
   ]
  },
  {
   "cell_type": "markdown",
   "metadata": {},
   "source": [
    "#### Created A Random DataSet "
   ]
  },
  {
   "cell_type": "code",
   "execution_count": 12,
   "metadata": {},
   "outputs": [
    {
     "data": {
      "text/html": [
       "<div>\n",
       "<style scoped>\n",
       "    .dataframe tbody tr th:only-of-type {\n",
       "        vertical-align: middle;\n",
       "    }\n",
       "\n",
       "    .dataframe tbody tr th {\n",
       "        vertical-align: top;\n",
       "    }\n",
       "\n",
       "    .dataframe thead th {\n",
       "        text-align: right;\n",
       "    }\n",
       "</style>\n",
       "<table border=\"1\" class=\"dataframe\">\n",
       "  <thead>\n",
       "    <tr style=\"text-align: right;\">\n",
       "      <th></th>\n",
       "      <th>G</th>\n",
       "      <th>H</th>\n",
       "      <th>I</th>\n",
       "      <th>J</th>\n",
       "      <th>K</th>\n",
       "      <th>Z</th>\n",
       "      <th>X</th>\n",
       "      <th>Q</th>\n",
       "    </tr>\n",
       "  </thead>\n",
       "  <tbody>\n",
       "    <tr>\n",
       "      <th>2024-01-13</th>\n",
       "      <td>-0.665752</td>\n",
       "      <td>1.818835</td>\n",
       "      <td>0.364449</td>\n",
       "      <td>0.928058</td>\n",
       "      <td>0.037279</td>\n",
       "      <td>-0.253072</td>\n",
       "      <td>-0.714656</td>\n",
       "      <td>-1.056245</td>\n",
       "    </tr>\n",
       "    <tr>\n",
       "      <th>2024-01-14</th>\n",
       "      <td>-0.306063</td>\n",
       "      <td>-0.514778</td>\n",
       "      <td>0.510497</td>\n",
       "      <td>-0.250852</td>\n",
       "      <td>0.199103</td>\n",
       "      <td>1.288007</td>\n",
       "      <td>0.991673</td>\n",
       "      <td>0.888239</td>\n",
       "    </tr>\n",
       "    <tr>\n",
       "      <th>2024-01-15</th>\n",
       "      <td>-1.121018</td>\n",
       "      <td>1.790816</td>\n",
       "      <td>0.767471</td>\n",
       "      <td>1.238513</td>\n",
       "      <td>0.609299</td>\n",
       "      <td>-0.481751</td>\n",
       "      <td>1.200182</td>\n",
       "      <td>2.235091</td>\n",
       "    </tr>\n",
       "    <tr>\n",
       "      <th>2024-01-16</th>\n",
       "      <td>-0.213894</td>\n",
       "      <td>-0.238836</td>\n",
       "      <td>-0.673130</td>\n",
       "      <td>2.104919</td>\n",
       "      <td>2.554276</td>\n",
       "      <td>0.480805</td>\n",
       "      <td>-1.757173</td>\n",
       "      <td>-0.013303</td>\n",
       "    </tr>\n",
       "    <tr>\n",
       "      <th>2024-01-17</th>\n",
       "      <td>-0.229195</td>\n",
       "      <td>0.586458</td>\n",
       "      <td>0.383168</td>\n",
       "      <td>1.117644</td>\n",
       "      <td>-0.179007</td>\n",
       "      <td>0.622675</td>\n",
       "      <td>1.185666</td>\n",
       "      <td>0.691914</td>\n",
       "    </tr>\n",
       "    <tr>\n",
       "      <th>2024-01-18</th>\n",
       "      <td>-0.444996</td>\n",
       "      <td>0.412940</td>\n",
       "      <td>1.783074</td>\n",
       "      <td>-1.392727</td>\n",
       "      <td>0.545750</td>\n",
       "      <td>1.174736</td>\n",
       "      <td>0.426968</td>\n",
       "      <td>-0.993565</td>\n",
       "    </tr>\n",
       "    <tr>\n",
       "      <th>2024-01-19</th>\n",
       "      <td>-0.254464</td>\n",
       "      <td>1.158239</td>\n",
       "      <td>-1.517758</td>\n",
       "      <td>-0.746796</td>\n",
       "      <td>-0.142218</td>\n",
       "      <td>0.928409</td>\n",
       "      <td>-0.669945</td>\n",
       "      <td>-1.071008</td>\n",
       "    </tr>\n",
       "    <tr>\n",
       "      <th>2024-01-20</th>\n",
       "      <td>-0.462487</td>\n",
       "      <td>-0.553590</td>\n",
       "      <td>0.442906</td>\n",
       "      <td>0.434994</td>\n",
       "      <td>-0.411896</td>\n",
       "      <td>0.309444</td>\n",
       "      <td>0.413867</td>\n",
       "      <td>0.273324</td>\n",
       "    </tr>\n",
       "    <tr>\n",
       "      <th>2024-01-21</th>\n",
       "      <td>1.297951</td>\n",
       "      <td>-1.206043</td>\n",
       "      <td>-1.431329</td>\n",
       "      <td>1.012480</td>\n",
       "      <td>0.628294</td>\n",
       "      <td>0.014912</td>\n",
       "      <td>0.671566</td>\n",
       "      <td>0.063334</td>\n",
       "    </tr>\n",
       "    <tr>\n",
       "      <th>2024-01-22</th>\n",
       "      <td>0.098519</td>\n",
       "      <td>-0.671768</td>\n",
       "      <td>-1.107114</td>\n",
       "      <td>1.544251</td>\n",
       "      <td>0.553121</td>\n",
       "      <td>1.435072</td>\n",
       "      <td>0.148092</td>\n",
       "      <td>0.005268</td>\n",
       "    </tr>\n",
       "  </tbody>\n",
       "</table>\n",
       "</div>"
      ],
      "text/plain": [
       "                   G         H         I         J         K         Z  \\\n",
       "2024-01-13 -0.665752  1.818835  0.364449  0.928058  0.037279 -0.253072   \n",
       "2024-01-14 -0.306063 -0.514778  0.510497 -0.250852  0.199103  1.288007   \n",
       "2024-01-15 -1.121018  1.790816  0.767471  1.238513  0.609299 -0.481751   \n",
       "2024-01-16 -0.213894 -0.238836 -0.673130  2.104919  2.554276  0.480805   \n",
       "2024-01-17 -0.229195  0.586458  0.383168  1.117644 -0.179007  0.622675   \n",
       "2024-01-18 -0.444996  0.412940  1.783074 -1.392727  0.545750  1.174736   \n",
       "2024-01-19 -0.254464  1.158239 -1.517758 -0.746796 -0.142218  0.928409   \n",
       "2024-01-20 -0.462487 -0.553590  0.442906  0.434994 -0.411896  0.309444   \n",
       "2024-01-21  1.297951 -1.206043 -1.431329  1.012480  0.628294  0.014912   \n",
       "2024-01-22  0.098519 -0.671768 -1.107114  1.544251  0.553121  1.435072   \n",
       "\n",
       "                   X         Q  \n",
       "2024-01-13 -0.714656 -1.056245  \n",
       "2024-01-14  0.991673  0.888239  \n",
       "2024-01-15  1.200182  2.235091  \n",
       "2024-01-16 -1.757173 -0.013303  \n",
       "2024-01-17  1.185666  0.691914  \n",
       "2024-01-18  0.426968 -0.993565  \n",
       "2024-01-19 -0.669945 -1.071008  \n",
       "2024-01-20  0.413867  0.273324  \n",
       "2024-01-21  0.671566  0.063334  \n",
       "2024-01-22  0.148092  0.005268  "
      ]
     },
     "execution_count": 12,
     "metadata": {},
     "output_type": "execute_result"
    }
   ],
   "source": [
    "dataFrame = pd.DataFrame(np.random.randn(10, 8), index=dateSeries, columns=list(\"GHIJKZXQ\"))\n",
    "dataFrame"
   ]
  },
  {
   "cell_type": "markdown",
   "metadata": {},
   "source": [
    "1. Select DataSet Row-wise"
   ]
  },
  {
   "cell_type": "code",
   "execution_count": 21,
   "metadata": {},
   "outputs": [
    {
     "data": {
      "text/html": [
       "<div>\n",
       "<style scoped>\n",
       "    .dataframe tbody tr th:only-of-type {\n",
       "        vertical-align: middle;\n",
       "    }\n",
       "\n",
       "    .dataframe tbody tr th {\n",
       "        vertical-align: top;\n",
       "    }\n",
       "\n",
       "    .dataframe thead th {\n",
       "        text-align: right;\n",
       "    }\n",
       "</style>\n",
       "<table border=\"1\" class=\"dataframe\">\n",
       "  <thead>\n",
       "    <tr style=\"text-align: right;\">\n",
       "      <th></th>\n",
       "      <th>G</th>\n",
       "      <th>H</th>\n",
       "      <th>I</th>\n",
       "      <th>J</th>\n",
       "      <th>K</th>\n",
       "      <th>Z</th>\n",
       "      <th>X</th>\n",
       "      <th>Q</th>\n",
       "    </tr>\n",
       "  </thead>\n",
       "  <tbody>\n",
       "    <tr>\n",
       "      <th>2024-01-15</th>\n",
       "      <td>-1.121018</td>\n",
       "      <td>1.790816</td>\n",
       "      <td>0.767471</td>\n",
       "      <td>1.238513</td>\n",
       "      <td>0.609299</td>\n",
       "      <td>-0.481751</td>\n",
       "      <td>1.200182</td>\n",
       "      <td>2.235091</td>\n",
       "    </tr>\n",
       "    <tr>\n",
       "      <th>2024-01-17</th>\n",
       "      <td>-0.229195</td>\n",
       "      <td>0.586458</td>\n",
       "      <td>0.383168</td>\n",
       "      <td>1.117644</td>\n",
       "      <td>-0.179007</td>\n",
       "      <td>0.622675</td>\n",
       "      <td>1.185666</td>\n",
       "      <td>0.691914</td>\n",
       "    </tr>\n",
       "    <tr>\n",
       "      <th>2024-01-19</th>\n",
       "      <td>-0.254464</td>\n",
       "      <td>1.158239</td>\n",
       "      <td>-1.517758</td>\n",
       "      <td>-0.746796</td>\n",
       "      <td>-0.142218</td>\n",
       "      <td>0.928409</td>\n",
       "      <td>-0.669945</td>\n",
       "      <td>-1.071008</td>\n",
       "    </tr>\n",
       "    <tr>\n",
       "      <th>2024-01-21</th>\n",
       "      <td>1.297951</td>\n",
       "      <td>-1.206043</td>\n",
       "      <td>-1.431329</td>\n",
       "      <td>1.012480</td>\n",
       "      <td>0.628294</td>\n",
       "      <td>0.014912</td>\n",
       "      <td>0.671566</td>\n",
       "      <td>0.063334</td>\n",
       "    </tr>\n",
       "  </tbody>\n",
       "</table>\n",
       "</div>"
      ],
      "text/plain": [
       "                   G         H         I         J         K         Z  \\\n",
       "2024-01-15 -1.121018  1.790816  0.767471  1.238513  0.609299 -0.481751   \n",
       "2024-01-17 -0.229195  0.586458  0.383168  1.117644 -0.179007  0.622675   \n",
       "2024-01-19 -0.254464  1.158239 -1.517758 -0.746796 -0.142218  0.928409   \n",
       "2024-01-21  1.297951 -1.206043 -1.431329  1.012480  0.628294  0.014912   \n",
       "\n",
       "                   X         Q  \n",
       "2024-01-15  1.200182  2.235091  \n",
       "2024-01-17  1.185666  0.691914  \n",
       "2024-01-19 -0.669945 -1.071008  \n",
       "2024-01-21  0.671566  0.063334  "
      ]
     },
     "execution_count": 21,
     "metadata": {},
     "output_type": "execute_result"
    }
   ],
   "source": [
    "# dataFrame[0:3] # starting from 0th index to (3-1) index\n",
    "# dataFrame[2:4]  # starting from 2nd index to (4-1) index\n",
    "dataFrame[2::2] # starting from 2nd index to the end skip 1 entry. "
   ]
  },
  {
   "cell_type": "code",
   "execution_count": 2,
   "metadata": {},
   "outputs": [
    {
     "name": "stdout",
     "output_type": "stream",
     "text": [
      "2.2.2\n"
     ]
    }
   ],
   "source": [
    "print(pd.__version__)"
   ]
  },
  {
   "cell_type": "code",
   "execution_count": null,
   "metadata": {},
   "outputs": [],
   "source": []
  },
  {
   "cell_type": "code",
   "execution_count": null,
   "metadata": {},
   "outputs": [],
   "source": []
  },
  {
   "cell_type": "code",
   "execution_count": null,
   "metadata": {},
   "outputs": [],
   "source": []
  },
  {
   "cell_type": "code",
   "execution_count": null,
   "metadata": {},
   "outputs": [],
   "source": []
  },
  {
   "cell_type": "code",
   "execution_count": null,
   "metadata": {},
   "outputs": [],
   "source": []
  }
 ],
 "metadata": {
  "kernelspec": {
   "display_name": "Python 3",
   "language": "python",
   "name": "python3"
  },
  "language_info": {
   "codemirror_mode": {
    "name": "ipython",
    "version": 3
   },
   "file_extension": ".py",
   "mimetype": "text/x-python",
   "name": "python",
   "nbconvert_exporter": "python",
   "pygments_lexer": "ipython3",
   "version": "3.12.3"
  }
 },
 "nbformat": 4,
 "nbformat_minor": 2
}
