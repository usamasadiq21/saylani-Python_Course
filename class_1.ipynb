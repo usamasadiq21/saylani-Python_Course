{
 "cells": [
  {
   "cell_type": "markdown",
   "metadata": {},
   "source": [
    "1. Operators "
   ]
  },
  {
   "cell_type": "code",
   "execution_count": 7,
   "metadata": {},
   "outputs": [
    {
     "name": "stdout",
     "output_type": "stream",
     "text": [
      "Addition 5\n",
      "Subtraction -1\n",
      "Multiplication 6\n",
      "Division 1.5\n",
      "Division 1\n",
      "Power 8\n",
      "Equation => 105\n"
     ]
    }
   ],
   "source": [
    "print('Addition', 2+3)\n",
    "print('Subtraction', 2-3)\n",
    "print('Multiplication', 2*3)\n",
    "\n",
    "# Single \"/\" will give floating in the answer.\n",
    "print('Division',3/2)\n",
    "\n",
    "# Double \"//\" will give Whole number (floating) in the answer or the \"floor\" digit.\n",
    "print('Division',3//2)\n",
    "print('Power', 2**3)\n",
    "\n",
    "# Below Equation follows PEMDAS Rule; Parenthesis Exponent Multiplication Division Addition Subtraction.\n",
    "print(\"Equation =>\", 3**3 + (2+4**2-5) * 7 - (4+9))\n"
   ]
  },
  {
   "cell_type": "markdown",
   "metadata": {},
   "source": [
    "2. Strings"
   ]
  },
  {
   "cell_type": "code",
   "execution_count": 14,
   "metadata": {},
   "outputs": [
    {
     "name": "stdout",
     "output_type": "stream",
     "text": [
      "1. what's app web?\n",
      "2. Lorem Ipsum is simply dummy text of the printing and typesetting industry. Lorem Ipsum has been the industry's \n",
      "    standard dummy text ever since the 1500s, when an unknown printer took a galley of type and scrambled it to make a type specimen book.\n",
      "3. Start      ...   Hellooo, How Are you, how is it going these days ?         ......      ????\n"
     ]
    }
   ],
   "source": [
    "# 1. If we want to use single quote in a string but it will make a syntax error, for this we wrap our string in double quote.\n",
    "print(\"1. what's app web?\")\n",
    "\n",
    "# 2. Multi-Line Strings\n",
    "print('''2. Lorem Ipsum is simply dummy text of the printing and typesetting industry. Lorem Ipsum has been the industry's \n",
    "    standard dummy text ever since the 1500s, when an unknown printer took a galley of type and scrambled it to make a type specimen book.''')\n",
    "\n",
    "# 3. Spaces in Strings; Spaces inside quotation marks works as same as spaces provides.\n",
    "print(\"3. Start      ...   Hellooo, How Are you, how is it going these days ?         ......      ????\")"
   ]
  },
  {
   "cell_type": "markdown",
   "metadata": {},
   "source": [
    "3. Variables"
   ]
  },
  {
   "cell_type": "code",
   "execution_count": null,
   "metadata": {},
   "outputs": [],
   "source": []
  }
 ],
 "metadata": {
  "kernelspec": {
   "display_name": "Python 3",
   "language": "python",
   "name": "python3"
  },
  "language_info": {
   "codemirror_mode": {
    "name": "ipython",
    "version": 3
   },
   "file_extension": ".py",
   "mimetype": "text/x-python",
   "name": "python",
   "nbconvert_exporter": "python",
   "pygments_lexer": "ipython3",
   "version": "3.12.3"
  }
 },
 "nbformat": 4,
 "nbformat_minor": 2
}
