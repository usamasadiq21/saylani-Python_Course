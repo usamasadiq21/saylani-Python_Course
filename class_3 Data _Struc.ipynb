{
 "cells": [
  {
   "cell_type": "markdown",
   "id": "df52fb46-1b3c-4b93-aa38-f43713c0fdb8",
   "metadata": {},
   "source": [
    "### DATA STRUCTURE\n",
    "1. TUPLE\n",
    "2. LIST\n",
    "3. DICTIONERY\n",
    "4. SET"
   ]
  },
  {
   "cell_type": "markdown",
   "id": "c1bb3942-01da-46ad-86c8-de5f7f3ca32c",
   "metadata": {},
   "source": [
    "## 1. TUPLE\n",
    "1. Ordered collection of Elements\n",
    "2. Enclosed in round braces.\n",
    "3. Once elements are stored cannot be change (immutable)\n",
    "4. Different types of elements can be stored."
   ]
  },
  {
   "cell_type": "code",
   "execution_count": 1,
   "id": "6901e98a-7e34-49d0-8793-9e1750a3318f",
   "metadata": {},
   "outputs": [],
   "source": [
    "tup1 = (1,3,6,True, \"Hureer\", 15.78, False)"
   ]
  },
  {
   "cell_type": "code",
   "execution_count": 2,
   "id": "b3796a87-b2f7-488c-87e1-ff0696701283",
   "metadata": {},
   "outputs": [],
   "source": [
    "tup2 = (True, 11,5,99,\"Saad\", \"Moon\", 64.66)"
   ]
  },
  {
   "cell_type": "code",
   "execution_count": 4,
   "id": "a32288f2-1680-4697-a005-b7066c83651a",
   "metadata": {},
   "outputs": [
    {
     "name": "stdout",
     "output_type": "stream",
     "text": [
      "(1, 3, 6, True, 'Hureer', 15.78, False)\n",
      "(True, 11, 5, 99, 'Saad', 'Moon', 64.66)\n"
     ]
    }
   ],
   "source": [
    "print(tup1)\n",
    "print(tup2)"
   ]
  },
  {
   "cell_type": "markdown",
   "id": "409f2840-af7a-436d-86d7-76f2735d8777",
   "metadata": {},
   "source": [
    "A).  Adding two or more Tuples(this simply concat the two or more tuples)"
   ]
  },
  {
   "cell_type": "code",
   "execution_count": 5,
   "id": "92dd88ba-03d9-43a4-9094-227584e21f2d",
   "metadata": {},
   "outputs": [
    {
     "name": "stdout",
     "output_type": "stream",
     "text": [
      "(1, 3, 6, True, 'Hureer', 15.78, False, True, 11, 5, 99, 'Saad', 'Moon', 64.66)\n"
     ]
    }
   ],
   "source": [
    "print(tup1 + tup2)"
   ]
  },
  {
   "cell_type": "markdown",
   "id": "f7f553de-d51c-455d-95e2-4fa255b4017b",
   "metadata": {},
   "source": [
    "B). Multiplying Tuples ( In multiplication this simply write that tuples no. of times)."
   ]
  },
  {
   "cell_type": "code",
   "execution_count": 6,
   "id": "57a50986-159b-4550-9c06-d502602c4efd",
   "metadata": {},
   "outputs": [
    {
     "name": "stdout",
     "output_type": "stream",
     "text": [
      "(True, 11, 5, 99, 'Saad', 'Moon', 64.66, True, 11, 5, 99, 'Saad', 'Moon', 64.66, True, 11, 5, 99, 'Saad', 'Moon', 64.66, 1, 3, 6, True, 'Hureer', 15.78, False)\n"
     ]
    }
   ],
   "source": [
    "print((tup2*3) + tup1)"
   ]
  },
  {
   "cell_type": "markdown",
   "id": "452710c1-9307-4ab2-9777-909fca800e2e",
   "metadata": {},
   "source": [
    "### Indexing works same for Tuples as well."
   ]
  },
  {
   "cell_type": "code",
   "execution_count": 11,
   "id": "a5b361f3-517f-4c5e-be46-e5666978eb91",
   "metadata": {},
   "outputs": [
    {
     "name": "stdout",
     "output_type": "stream",
     "text": [
      "34\n"
     ]
    }
   ],
   "source": [
    "newTup = (20,34)\n",
    "newTup2 = (11,22)\n",
    "print(newTup[1])"
   ]
  },
  {
   "cell_type": "markdown",
   "id": "d2fe0da2-5cbf-44dd-b45a-68701a6a2ab6",
   "metadata": {},
   "source": [
    "c). Maximum from Tuple"
   ]
  },
  {
   "cell_type": "code",
   "execution_count": 12,
   "id": "725e3d0a-0501-4534-8266-95bdc5717481",
   "metadata": {},
   "outputs": [
    {
     "data": {
      "text/plain": [
       "22"
      ]
     },
     "execution_count": 12,
     "metadata": {},
     "output_type": "execute_result"
    }
   ],
   "source": [
    "max(newTup2)"
   ]
  },
  {
   "cell_type": "markdown",
   "id": "af4aab55-17d9-4e18-9031-71dde49dfa67",
   "metadata": {},
   "source": [
    "D). Minimum from Tuple"
   ]
  },
  {
   "cell_type": "code",
   "execution_count": 13,
   "id": "e42f0a79-1c38-4c78-aa87-c1d7532e5f8b",
   "metadata": {},
   "outputs": [
    {
     "data": {
      "text/plain": [
       "11"
      ]
     },
     "execution_count": 13,
     "metadata": {},
     "output_type": "execute_result"
    }
   ],
   "source": [
    "min(newTup2)"
   ]
  },
  {
   "cell_type": "markdown",
   "id": "36127207-6537-49e3-918e-6728efa9e919",
   "metadata": {},
   "source": [
    "---"
   ]
  },
  {
   "cell_type": "markdown",
   "id": "d646b9e3-ed21-4bf4-93ac-6e5adeb6d71c",
   "metadata": {},
   "source": [
    "## 2. LIST\n",
    "1. Ordered List of Elements\n",
    "2. contain elements of all types.\n",
    "3. Lists are mutable\n",
    "4. Enclosed in square brackets\n"
   ]
  },
  {
   "cell_type": "code",
   "execution_count": 15,
   "id": "477ff872-c28e-48ab-8c0f-e0d22315d681",
   "metadata": {},
   "outputs": [],
   "source": [
    "list1 = (1,3,6,True, \"Hureer\", 15.78, False)\n",
    "list2 = (True, 11,5,99,\"Saad\", \"Moon\", 64.66)"
   ]
  },
  {
   "cell_type": "markdown",
   "id": "06d22fba-d1f6-433c-b1c7-cea2ee347d53",
   "metadata": {},
   "source": [
    "A). Concatenating List"
   ]
  },
  {
   "cell_type": "code",
   "execution_count": 16,
   "id": "565f584d-184e-4784-8b32-92ce77dbb3a7",
   "metadata": {},
   "outputs": [
    {
     "name": "stdout",
     "output_type": "stream",
     "text": [
      "(1, 3, 6, True, 'Hureer', 15.78, False, True, 11, 5, 99, 'Saad', 'Moon', 64.66)\n"
     ]
    }
   ],
   "source": [
    "print(list1 + list2)"
   ]
  },
  {
   "cell_type": "markdown",
   "id": "2ae1872f-b1b3-426b-8e40-a3ddd97f0a20",
   "metadata": {},
   "source": [
    "B). Repetition of Same List"
   ]
  },
  {
   "cell_type": "code",
   "execution_count": 17,
   "id": "6f8e3fbc-0216-4029-88a4-117fad25ab18",
   "metadata": {},
   "outputs": [
    {
     "name": "stdout",
     "output_type": "stream",
     "text": [
      "(1, 3, 6, True, 'Hureer', 15.78, False, 1, 3, 6, True, 'Hureer', 15.78, False, 1, 3, 6, True, 'Hureer', 15.78, False)\n"
     ]
    }
   ],
   "source": [
    "print(list1*3)"
   ]
  },
  {
   "cell_type": "markdown",
   "id": "4a7998b4-8f11-4cea-b189-5beee103e057",
   "metadata": {},
   "source": [
    "### Methods Of List"
   ]
  },
  {
   "cell_type": "markdown",
   "id": "28c436ad-cc3f-4b16-a63f-05039bd98cee",
   "metadata": {},
   "source": [
    "Abhi Parhny ha "
   ]
  },
  {
   "cell_type": "markdown",
   "id": "3dddd2cc-38ae-4c67-a559-142b122f2e9f",
   "metadata": {},
   "source": [
    "---"
   ]
  },
  {
   "cell_type": "markdown",
   "id": "e044ba4f-7e8f-4f0e-9ddb-ad5ac3017e41",
   "metadata": {},
   "source": [
    "## 3. DICTIONARY\n",
    "- An unordered collection of elements\n",
    "- key and values\n",
    "- enclosed in curly braces\n",
    "- Mutable/ cna change the values"
   ]
  },
  {
   "cell_type": "code",
   "execution_count": 17,
   "id": "f3d89d0d-01b6-4097-95a5-ef13a13ba7e9",
   "metadata": {},
   "outputs": [
    {
     "data": {
      "text/plain": [
       "{'name': 'Usama', 'age': 23, 'quanlification': 'Graduated', 'Single': True}"
      ]
     },
     "execution_count": 17,
     "metadata": {},
     "output_type": "execute_result"
    }
   ],
   "source": [
    "dict1 = {\"name\" : \"Usama\", \"age\": 23, \"quanlification\": \"Graduated\", \"Single\": True}\n",
    "dict1"
   ]
  },
  {
   "cell_type": "code",
   "execution_count": 18,
   "id": "02143497-57e7-46f1-8735-764c6ce5abf0",
   "metadata": {},
   "outputs": [
    {
     "data": {
      "text/plain": [
       "dict"
      ]
     },
     "execution_count": 18,
     "metadata": {},
     "output_type": "execute_result"
    }
   ],
   "source": [
    "type(dict1)"
   ]
  },
  {
   "cell_type": "code",
   "execution_count": 19,
   "id": "865988d2-e00e-4ad4-9de5-a8e7166315fe",
   "metadata": {},
   "outputs": [
    {
     "data": {
      "text/plain": [
       "dict_keys(['name', 'age', 'quanlification', 'Single'])"
      ]
     },
     "execution_count": 19,
     "metadata": {},
     "output_type": "execute_result"
    }
   ],
   "source": [
    "# Dictionary Methods\n",
    "dict1_keys = dict1.keys()\n",
    "dict1_keys"
   ]
  },
  {
   "cell_type": "markdown",
   "id": "b453086e-1d6c-483e-b6d2-95780084132b",
   "metadata": {},
   "source": [
    "A). Adding New Elements in dict1"
   ]
  },
  {
   "cell_type": "code",
   "execution_count": 20,
   "id": "cb35cf09-8373-404c-be6b-946c87faa8be",
   "metadata": {},
   "outputs": [
    {
     "data": {
      "text/plain": [
       "{'name': 'Usama',\n",
       " 'age': 23,\n",
       " 'quanlification': 'Graduated',\n",
       " 'Single': True,\n",
       " 'gender': 'Male'}"
      ]
     },
     "execution_count": 20,
     "metadata": {},
     "output_type": "execute_result"
    }
   ],
   "source": [
    "dict1[\"gender\"] = \"Male\"\n",
    "dict1"
   ]
  },
  {
   "cell_type": "markdown",
   "id": "3cc3e39b-f527-41b6-a64d-231fac8848f3",
   "metadata": {},
   "source": [
    "B). Updating existing value in dict1"
   ]
  },
  {
   "cell_type": "code",
   "execution_count": 24,
   "id": "ea48b66b-2034-4d87-a688-99afda72abb6",
   "metadata": {},
   "outputs": [
    {
     "data": {
      "text/plain": [
       "{'name': 'Saad',\n",
       " 'age': 23,\n",
       " 'quanlification': 'Graduated',\n",
       " 'Single': True,\n",
       " 'gender': 'Male'}"
      ]
     },
     "execution_count": 24,
     "metadata": {},
     "output_type": "execute_result"
    }
   ],
   "source": [
    "dict1[\"name\"] = \"Saad\"\n",
    "dict1"
   ]
  },
  {
   "cell_type": "code",
   "execution_count": 25,
   "id": "72b43108-ca47-4a7a-bd61-96bba0a1adc1",
   "metadata": {},
   "outputs": [
    {
     "data": {
      "text/plain": [
       "{'name': 'Saad',\n",
       " 'age': 23,\n",
       " 'quanlification': 'Graduated',\n",
       " 'Single': True,\n",
       " 'gender': 'Male',\n",
       " ('name', 'age'): ['Saad', 17]}"
      ]
     },
     "execution_count": 25,
     "metadata": {},
     "output_type": "execute_result"
    }
   ],
   "source": [
    "dict1[\"name\", \"age\"] = [\"Saad\", 17] # This will create keys store in tuple and values store in list.\n",
    "dict1"
   ]
  },
  {
   "cell_type": "code",
   "execution_count": 26,
   "id": "006257cf-5124-4b46-9ca1-05ceb3cf8d0f",
   "metadata": {},
   "outputs": [
    {
     "data": {
      "text/plain": [
       "{'banana': 12, 'keenu': 24, 'apple': 3.5}"
      ]
     },
     "execution_count": 26,
     "metadata": {},
     "output_type": "execute_result"
    }
   ],
   "source": [
    "fruit = {\"banana\" : 12, \"keenu\" : 24, \"apple\": 3.5}\n",
    "fruit"
   ]
  },
  {
   "cell_type": "markdown",
   "id": "4edf69b2-3680-43c1-be0c-ee2a6d8864d3",
   "metadata": {},
   "source": [
    "C). Concatenating Dictionaries"
   ]
  },
  {
   "cell_type": "code",
   "execution_count": 27,
   "id": "86cbf1e8-fe9e-430a-95ed-1eb05c1a9a99",
   "metadata": {},
   "outputs": [
    {
     "data": {
      "text/plain": [
       "{'name': 'Saad',\n",
       " 'age': 23,\n",
       " 'quanlification': 'Graduated',\n",
       " 'Single': True,\n",
       " 'gender': 'Male',\n",
       " ('name', 'age'): ['Saad', 17],\n",
       " 'banana': 12,\n",
       " 'keenu': 24,\n",
       " 'apple': 3.5}"
      ]
     },
     "execution_count": 27,
     "metadata": {},
     "output_type": "execute_result"
    }
   ],
   "source": [
    "dict1.update(fruit)\n",
    "dict1"
   ]
  },
  {
   "cell_type": "markdown",
   "id": "7e36470f-f09b-4455-81f5-d110bc38c27e",
   "metadata": {},
   "source": [
    "### 4. SETS\n",
    "- UNORDERED AND unINDEXED\n",
    "- Enclosed in curly braces\n",
    "- No duplicates "
   ]
  },
  {
   "cell_type": "code",
   "execution_count": 40,
   "id": "d41c47ab-511e-4f5c-8b4e-86c6f9db8640",
   "metadata": {},
   "outputs": [
    {
     "data": {
      "text/plain": [
       "{1, 11.9, 13.6, 2, 4.2, 'Ammad', False, 'Ubaid'}"
      ]
     },
     "execution_count": 40,
     "metadata": {},
     "output_type": "execute_result"
    }
   ],
   "source": [
    "# Set does not print Boolean and print duplications one at a time.\n",
    "s1 = {1, 2, 4.2, 11.9, 13.6, \"Ammad\" , \"Ammad\", False, \"Ubaid\"}\n",
    "s1"
   ]
  },
  {
   "cell_type": "code",
   "execution_count": 37,
   "id": "694fdf21-a947-436d-a645-6f2451c5edd8",
   "metadata": {},
   "outputs": [
    {
     "data": {
      "text/plain": [
       "{1, 11.9, 13.6, 2, 4.2, 9999999, 'Ammad', False, 'Ubaid'}"
      ]
     },
     "execution_count": 37,
     "metadata": {},
     "output_type": "execute_result"
    }
   ],
   "source": [
    "s1.add(9999999)\n",
    "s1"
   ]
  },
  {
   "cell_type": "code",
   "execution_count": 38,
   "id": "6499bb2e-7fc4-4ffa-af71-a7694b8be38a",
   "metadata": {},
   "outputs": [
    {
     "data": {
      "text/plain": [
       "{1, 11.9, 13.6, 2, 4.2, 9999999, 'Ammad', False}"
      ]
     },
     "execution_count": 38,
     "metadata": {},
     "output_type": "execute_result"
    }
   ],
   "source": [
    "s1.remove(\"Ubaid\")\n",
    "s1"
   ]
  },
  {
   "cell_type": "code",
   "execution_count": null,
   "id": "a9f8c53b-7e58-4a7b-89dd-3b4d06dad3c3",
   "metadata": {},
   "outputs": [],
   "source": []
  },
  {
   "cell_type": "code",
   "execution_count": null,
   "id": "694caf9b-ac02-4091-a38b-2210c94b0877",
   "metadata": {},
   "outputs": [],
   "source": []
  },
  {
   "cell_type": "markdown",
   "id": "6b99b7fc-1fe1-490a-8f1c-ba00bb47d41f",
   "metadata": {},
   "source": []
  },
  {
   "cell_type": "markdown",
   "id": "4b0170bc-b8d5-4466-a40e-948978b189b2",
   "metadata": {},
   "source": []
  }
 ],
 "metadata": {
  "kernelspec": {
   "display_name": "Python 3 (ipykernel)",
   "language": "python",
   "name": "python3"
  },
  "language_info": {
   "codemirror_mode": {
    "name": "ipython",
    "version": 3
   },
   "file_extension": ".py",
   "mimetype": "text/x-python",
   "name": "python",
   "nbconvert_exporter": "python",
   "pygments_lexer": "ipython3",
   "version": "3.11.7"
  }
 },
 "nbformat": 4,
 "nbformat_minor": 5
}
